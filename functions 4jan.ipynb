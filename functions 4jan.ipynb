{
 "cells": [
  {
   "cell_type": "markdown",
   "id": "9aef546b",
   "metadata": {},
   "source": [
    "functions : difininng a fuction only gives it a name specifies the parameters that are to be included in the func and structures the blocks of code.\n",
    "once the basic stucture of a function is finalized you can execut eit by calling it from another func or directly from the python prompt.\n",
    "def printme(str):\n",
    "    ptint(str)\n",
    "    return\n",
    "    \n",
    " #now you can call printme function"
   ]
  },
  {
   "cell_type": "code",
   "execution_count": 1,
   "id": "1779553c",
   "metadata": {},
   "outputs": [],
   "source": [
    "def sample():\n",
    "    print('todays class is on function')"
   ]
  },
  {
   "cell_type": "code",
   "execution_count": 2,
   "id": "8e90709d",
   "metadata": {},
   "outputs": [
    {
     "name": "stdout",
     "output_type": "stream",
     "text": [
      "todays class is on function\n"
     ]
    }
   ],
   "source": [
    "sample()"
   ]
  },
  {
   "cell_type": "code",
   "execution_count": 3,
   "id": "54b51abd",
   "metadata": {},
   "outputs": [],
   "source": [
    "def sample():\n",
    "    print('todays class is on function')\n",
    "    print('xyz')"
   ]
  },
  {
   "cell_type": "code",
   "execution_count": 4,
   "id": "2a1cf09c",
   "metadata": {},
   "outputs": [
    {
     "name": "stdout",
     "output_type": "stream",
     "text": [
      "todays class is on function\n",
      "xyz\n"
     ]
    }
   ],
   "source": [
    "sample()"
   ]
  },
  {
   "cell_type": "code",
   "execution_count": 5,
   "id": "15536e9d",
   "metadata": {},
   "outputs": [],
   "source": [
    "def sample():\n",
    "    print('todays class is on function')\n",
    "    print('xyz')\n",
    "    print(88)"
   ]
  },
  {
   "cell_type": "code",
   "execution_count": 6,
   "id": "60d628e2",
   "metadata": {},
   "outputs": [
    {
     "name": "stdout",
     "output_type": "stream",
     "text": [
      "todays class is on function\n",
      "xyz\n",
      "88\n"
     ]
    }
   ],
   "source": [
    "sample()"
   ]
  },
  {
   "cell_type": "code",
   "execution_count": 9,
   "id": "46850c7f",
   "metadata": {},
   "outputs": [],
   "source": [
    "def bmi(weight,height):\n",
    "    weight = weight*2.3\n",
    "    height = height*0.3\n",
    "    bmi = weight/height *2\n",
    "    return bmi"
   ]
  },
  {
   "cell_type": "code",
   "execution_count": 10,
   "id": "8d04ff23",
   "metadata": {},
   "outputs": [
    {
     "data": {
      "text/plain": [
       "578.6163522012579"
      ]
     },
     "execution_count": 10,
     "metadata": {},
     "output_type": "execute_result"
    }
   ],
   "source": [
    "bmi(200,5.3)"
   ]
  },
  {
   "cell_type": "code",
   "execution_count": 12,
   "id": "35520d42",
   "metadata": {},
   "outputs": [],
   "source": [
    "def bmi(weight,height):\n",
    "    weight = weight*0.45 #to convert pounds in kg multiply by 0.45\n",
    "    height = height*0.3\n",
    "    bmi = weight/(height **2)\n",
    "    return bmi"
   ]
  },
  {
   "cell_type": "code",
   "execution_count": 13,
   "id": "1dccc075",
   "metadata": {},
   "outputs": [
    {
     "data": {
      "text/plain": [
       "35.59985760056961"
      ]
     },
     "execution_count": 13,
     "metadata": {},
     "output_type": "execute_result"
    }
   ],
   "source": [
    "bmi(200,5.3)"
   ]
  },
  {
   "cell_type": "code",
   "execution_count": 15,
   "id": "fef0e277",
   "metadata": {},
   "outputs": [
    {
     "data": {
      "text/plain": [
       "18.89644746787604"
      ]
     },
     "execution_count": 15,
     "metadata": {},
     "output_type": "execute_result"
    }
   ],
   "source": [
    "bmi(150,6.3)"
   ]
  },
  {
   "cell_type": "code",
   "execution_count": 16,
   "id": "6dae27c6",
   "metadata": {},
   "outputs": [],
   "source": [
    "bmi_xyz = bmi(200,5.3)"
   ]
  },
  {
   "cell_type": "code",
   "execution_count": 17,
   "id": "e3dff15d",
   "metadata": {},
   "outputs": [
    {
     "data": {
      "text/plain": [
       "35.59985760056961"
      ]
     },
     "execution_count": 17,
     "metadata": {},
     "output_type": "execute_result"
    }
   ],
   "source": [
    "bmi_xyz "
   ]
  },
  {
   "cell_type": "markdown",
   "id": "2c7b4237",
   "metadata": {},
   "source": [
    "architecture of function \n",
    "def function name (arguments):\n",
    "    statements to execute\n",
    "    return value"
   ]
  },
  {
   "cell_type": "code",
   "execution_count": 18,
   "id": "6e30983d",
   "metadata": {},
   "outputs": [],
   "source": [
    "list2 = [1,2,3]\n",
    "\n",
    "def changelist(list1):\n",
    "    print(id(list1))  #id means memory location\n",
    "    list1 = list1.append('A')\n",
    "    return"
   ]
  },
  {
   "cell_type": "code",
   "execution_count": 24,
   "id": "aea74255",
   "metadata": {},
   "outputs": [
    {
     "name": "stdout",
     "output_type": "stream",
     "text": [
      "1248385866624\n"
     ]
    }
   ],
   "source": [
    "changelist(list2)"
   ]
  },
  {
   "cell_type": "code",
   "execution_count": 25,
   "id": "cc9a2d11",
   "metadata": {},
   "outputs": [
    {
     "data": {
      "text/plain": [
       "[1, 2, 3, 'A', 'A', 'A', 'A', 'A']"
      ]
     },
     "execution_count": 25,
     "metadata": {},
     "output_type": "execute_result"
    }
   ],
   "source": [
    "list2 #A will be added how many times you exectute it"
   ]
  },
  {
   "cell_type": "code",
   "execution_count": null,
   "id": "6ec18726",
   "metadata": {},
   "outputs": [],
   "source": [
    "#list1 = [ 1,2,3,4,5,6,7,8]\n",
    "#write a func to check if an element is even/odd and print it accordingly\n",
    "#'1st element is odd'\n",
    "#'2nd elemenr is even'\n",
    "#1st step = create a function\n",
    "#2nd step = iterator over elemnets in a list\n",
    "#3rd step = check if an elemnet is even or odd"
   ]
  },
  {
   "cell_type": "code",
   "execution_count": 32,
   "id": "4874431e",
   "metadata": {},
   "outputs": [],
   "source": [
    "list1 = [ 1,2,3,4,5,6,7,8]"
   ]
  },
  {
   "cell_type": "code",
   "execution_count": 35,
   "id": "b5962c0c",
   "metadata": {},
   "outputs": [
    {
     "name": "stdout",
     "output_type": "stream",
     "text": [
      "1\n",
      "2\n",
      "3\n",
      "4\n",
      "5\n",
      "6\n",
      "7\n",
      "8\n"
     ]
    }
   ],
   "source": [
    "for a in list1:\n",
    "    print(a)"
   ]
  },
  {
   "cell_type": "code",
   "execution_count": 43,
   "id": "7db38292",
   "metadata": {},
   "outputs": [
    {
     "name": "stdout",
     "output_type": "stream",
     "text": [
      "%d element is odd\n",
      "%d element is even\n",
      "%d element is odd\n",
      "%d element is even\n",
      "%d element is odd\n",
      "%d element is even\n",
      "%d element is odd\n",
      "%d element is even\n"
     ]
    }
   ],
   "source": [
    "for a in list1:\n",
    "    if  a%2 == 0:\n",
    "        print(\"%d element is even\")\n",
    "    else:\n",
    "        print(\"%d element is odd\")"
   ]
  },
  {
   "cell_type": "code",
   "execution_count": 46,
   "id": "a6014063",
   "metadata": {},
   "outputs": [
    {
     "name": "stdout",
     "output_type": "stream",
     "text": [
      "1 element is odd\n",
      "2 element is even\n",
      "3 element is odd\n",
      "4 element is even\n",
      "5 element is odd\n",
      "6 element is even\n",
      "7 element is odd\n",
      "8 element is even\n"
     ]
    }
   ],
   "source": [
    "i = 1\n",
    "for a in list1:\n",
    "    if  a%2 == 0:\n",
    "        print(\"%d element is even\"%(i))\n",
    "    else:\n",
    "        print(\"%d element is odd\"%(i))\n",
    "    i +=1"
   ]
  },
  {
   "cell_type": "code",
   "execution_count": 47,
   "id": "e69c412f",
   "metadata": {},
   "outputs": [],
   "source": [
    "list2 = [34,55,77,99,45,36]"
   ]
  },
  {
   "cell_type": "code",
   "execution_count": 49,
   "id": "e551f07b",
   "metadata": {},
   "outputs": [
    {
     "name": "stdout",
     "output_type": "stream",
     "text": [
      "1 element is even\n",
      "2 element is odd\n",
      "3 element is odd\n",
      "4 element is odd\n",
      "5 element is odd\n",
      "6 element is even\n"
     ]
    }
   ],
   "source": [
    "i = 1\n",
    "for a in list2:\n",
    "    if  a%2 == 0:\n",
    "        print(\"%d element is even\"%(i))\n",
    "    else:\n",
    "        print(\"%d element is odd\"%(i))\n",
    "    i +=1"
   ]
  },
  {
   "cell_type": "markdown",
   "id": "afdcd5e1",
   "metadata": {},
   "source": [
    "keyword argument: keyword arguments are related to the function calls when you use keyword argument in a func call the caller identifies the arguments by the parameter name. "
   ]
  },
  {
   "cell_type": "code",
   "execution_count": 65,
   "id": "0cb6c0c9",
   "metadata": {},
   "outputs": [],
   "source": [
    "def bmi(weight,height):\n",
    "    weight = weight*0.45 #to convert pounds in kg multiply by 0.45\n",
    "    height = height*0.3\n",
    "    bmi = weight/(height **2)\n",
    "    return bmi"
   ]
  },
  {
   "cell_type": "code",
   "execution_count": 50,
   "id": "272c2470",
   "metadata": {},
   "outputs": [
    {
     "data": {
      "text/plain": [
       "27.777777777777782"
      ]
     },
     "execution_count": 50,
     "metadata": {},
     "output_type": "execute_result"
    }
   ],
   "source": [
    "bmi_xyz = bmi(weight=200,height=6)\n",
    "bmi_xyz"
   ]
  },
  {
   "cell_type": "code",
   "execution_count": 51,
   "id": "fad7e573",
   "metadata": {},
   "outputs": [
    {
     "data": {
      "text/plain": [
       "27.777777777777782"
      ]
     },
     "execution_count": 51,
     "metadata": {},
     "output_type": "execute_result"
    }
   ],
   "source": [
    "bmi_xyz = bmi(height=6,weight=200)\n",
    "bmi_xyz"
   ]
  },
  {
   "cell_type": "code",
   "execution_count": 52,
   "id": "f2ab2a34",
   "metadata": {},
   "outputs": [
    {
     "data": {
      "text/plain": [
       "27.777777777777782"
      ]
     },
     "execution_count": 52,
     "metadata": {},
     "output_type": "execute_result"
    }
   ],
   "source": [
    "bmi_xyz = bmi(200,6)\n",
    "bmi_xyz"
   ]
  },
  {
   "cell_type": "code",
   "execution_count": 53,
   "id": "397d8a66",
   "metadata": {},
   "outputs": [
    {
     "data": {
      "text/plain": [
       "0.00075"
      ]
     },
     "execution_count": 53,
     "metadata": {},
     "output_type": "execute_result"
    }
   ],
   "source": [
    "bmi_xyz = bmi(6,200) #(it can not remember sequence if you cant mention in above we mention wet and height bt here we cant hence it follows the sequence which we mention in programme)\n",
    "bmi_xyz"
   ]
  },
  {
   "cell_type": "markdown",
   "id": "e33b710d",
   "metadata": {},
   "source": [
    "default argument:a default argument is an argument that assumes a default value if a value is not provided in the function call for that argument.\n",
    "the following ex. gives an iidea on default argument it prints default age if it not passed"
   ]
  },
  {
   "cell_type": "code",
   "execution_count": 76,
   "id": "07211329",
   "metadata": {},
   "outputs": [],
   "source": [
    "#example\n",
    "def printinfo(name,age=35):\n",
    "    print('Name:','name')\n",
    "    print('Age','age')\n",
    "    return"
   ]
  },
  {
   "cell_type": "code",
   "execution_count": 74,
   "id": "c3a164c2",
   "metadata": {
    "scrolled": false
   },
   "outputs": [
    {
     "name": "stdout",
     "output_type": "stream",
     "text": [
      "Name name\n",
      "Age age\n"
     ]
    }
   ],
   "source": [
    "printinfo(age = 50,name = 'miki')"
   ]
  },
  {
   "cell_type": "code",
   "execution_count": 77,
   "id": "764e8260",
   "metadata": {
    "scrolled": true
   },
   "outputs": [
    {
     "name": "stdout",
     "output_type": "stream",
     "text": [
      "Name: name\n",
      "Age age\n"
     ]
    }
   ],
   "source": [
    "printinfo(name='miki') #it never change because its default "
   ]
  },
  {
   "cell_type": "code",
   "execution_count": 64,
   "id": "a9596ec3",
   "metadata": {},
   "outputs": [
    {
     "ename": "TypeError",
     "evalue": "bmi() missing 2 required positional arguments: 'weight' and 'height'",
     "output_type": "error",
     "traceback": [
      "\u001b[1;31m---------------------------------------------------------------------------\u001b[0m",
      "\u001b[1;31mTypeError\u001b[0m                                 Traceback (most recent call last)",
      "\u001b[1;32m~\\AppData\\Local\\Temp/ipykernel_1248/2464151294.py\u001b[0m in \u001b[0;36m<module>\u001b[1;34m\u001b[0m\n\u001b[1;32m----> 1\u001b[1;33m \u001b[0mbmi\u001b[0m\u001b[1;33m(\u001b[0m\u001b[1;33m)\u001b[0m\u001b[1;33m\u001b[0m\u001b[1;33m\u001b[0m\u001b[0m\n\u001b[0m",
      "\u001b[1;31mTypeError\u001b[0m: bmi() missing 2 required positional arguments: 'weight' and 'height'"
     ]
    }
   ],
   "source": [
    "bmi()"
   ]
  },
  {
   "cell_type": "code",
   "execution_count": null,
   "id": "1a5a6dfc",
   "metadata": {},
   "outputs": [],
   "source": []
  },
  {
   "cell_type": "code",
   "execution_count": 59,
   "id": "1109e598",
   "metadata": {},
   "outputs": [
    {
     "data": {
      "text/plain": [
       "<function __main__.printinfo(name, age)>"
      ]
     },
     "execution_count": 59,
     "metadata": {},
     "output_type": "execute_result"
    }
   ],
   "source": [
    "printinfo"
   ]
  },
  {
   "cell_type": "code",
   "execution_count": 69,
   "id": "8ff5ffc9",
   "metadata": {},
   "outputs": [],
   "source": [
    "def sample(name,age,gen):\n",
    "    print('name=',name,'age=',age,'gen=',gen)"
   ]
  },
  {
   "cell_type": "code",
   "execution_count": 70,
   "id": "e0731f7e",
   "metadata": {},
   "outputs": [
    {
     "name": "stdout",
     "output_type": "stream",
     "text": [
      "name= xyz age= 70 gen= male\n"
     ]
    }
   ],
   "source": [
    "sample('xyz',gen='male',age=70)"
   ]
  },
  {
   "cell_type": "code",
   "execution_count": 71,
   "id": "11e300fb",
   "metadata": {},
   "outputs": [
    {
     "ename": "SyntaxError",
     "evalue": "positional argument follows keyword argument (Temp/ipykernel_1248/1371099960.py, line 1)",
     "output_type": "error",
     "traceback": [
      "\u001b[1;36m  File \u001b[1;32m\"C:\\Users\\Ragini\\AppData\\Local\\Temp/ipykernel_1248/1371099960.py\"\u001b[1;36m, line \u001b[1;32m1\u001b[0m\n\u001b[1;33m    sample('xyz',gen='male',70)\u001b[0m\n\u001b[1;37m                              ^\u001b[0m\n\u001b[1;31mSyntaxError\u001b[0m\u001b[1;31m:\u001b[0m positional argument follows keyword argument\n"
     ]
    }
   ],
   "source": [
    "sample('xyz',gen='male',70) #positions=al argument follows keyword argument if we execute it accordint to its posion without mention age it will be execute but if we cant the it takes erro"
   ]
  },
  {
   "cell_type": "code",
   "execution_count": 72,
   "id": "7f1887f0",
   "metadata": {
    "scrolled": true
   },
   "outputs": [
    {
     "name": "stdout",
     "output_type": "stream",
     "text": [
      "name= xyz age= 70 gen= male\n"
     ]
    }
   ],
   "source": [
    "sample('xyz',70,gen='male')"
   ]
  },
  {
   "cell_type": "raw",
   "id": "37be6f71",
   "metadata": {},
   "source": [
    "variable argument = user may need to process a func for more arguments than specified while defining the func . they are called variable length argument.\n",
    "an asterist(*)is placed before the variable name that holds the value of all non keyword variable arguments . this tuple remains empty if no additional arguments are specified during the func call ."
   ]
  },
  {
   "cell_type": "markdown",
   "id": "7536bf8c",
   "metadata": {},
   "source": [
    "*argh and *kwargs (when we see * before argument then these are variable no. of positional argument)"
   ]
  },
  {
   "cell_type": "code",
   "execution_count": 79,
   "id": "5258bcc5",
   "metadata": {},
   "outputs": [],
   "source": [
    "def var_args(*toprint):\n",
    "  for i in toprint:\n",
    "             print(i)"
   ]
  },
  {
   "cell_type": "code",
   "execution_count": 80,
   "id": "91216802",
   "metadata": {},
   "outputs": [
    {
     "name": "stdout",
     "output_type": "stream",
     "text": [
      "1\n",
      "2\n",
      "3\n",
      "4\n",
      "5\n"
     ]
    }
   ],
   "source": [
    "var_args(1,2,3,4,5)"
   ]
  },
  {
   "cell_type": "code",
   "execution_count": 89,
   "id": "7f0b746f",
   "metadata": {},
   "outputs": [],
   "source": [
    "def var_args(*toprint):\n",
    "    for i in toprint:\n",
    "             print(i)\n",
    "    print(toprint)"
   ]
  },
  {
   "cell_type": "code",
   "execution_count": 90,
   "id": "77efe959",
   "metadata": {},
   "outputs": [
    {
     "name": "stdout",
     "output_type": "stream",
     "text": [
      "1\n",
      "2\n",
      "3\n",
      "4\n",
      "5\n",
      "6\n",
      "(1, 2, 3, 4, 5, 6)\n"
     ]
    }
   ],
   "source": [
    "var_args(1,2,3,4,5,6)"
   ]
  },
  {
   "cell_type": "code",
   "execution_count": 91,
   "id": "907a3a62",
   "metadata": {},
   "outputs": [],
   "source": [
    "def var_args(toprint):\n",
    "    for i in toprint:\n",
    "             print(i)\n",
    "    print(toprint)"
   ]
  },
  {
   "cell_type": "code",
   "execution_count": 92,
   "id": "6febef2a",
   "metadata": {},
   "outputs": [
    {
     "ename": "TypeError",
     "evalue": "var_args() takes 1 positional argument but 6 were given",
     "output_type": "error",
     "traceback": [
      "\u001b[1;31m---------------------------------------------------------------------------\u001b[0m",
      "\u001b[1;31mTypeError\u001b[0m                                 Traceback (most recent call last)",
      "\u001b[1;32m~\\AppData\\Local\\Temp/ipykernel_1248/3660971295.py\u001b[0m in \u001b[0;36m<module>\u001b[1;34m\u001b[0m\n\u001b[1;32m----> 1\u001b[1;33m \u001b[0mvar_args\u001b[0m\u001b[1;33m(\u001b[0m\u001b[1;36m1\u001b[0m\u001b[1;33m,\u001b[0m\u001b[1;36m2\u001b[0m\u001b[1;33m,\u001b[0m\u001b[1;36m3\u001b[0m\u001b[1;33m,\u001b[0m\u001b[1;36m4\u001b[0m\u001b[1;33m,\u001b[0m\u001b[1;36m5\u001b[0m\u001b[1;33m,\u001b[0m\u001b[1;36m6\u001b[0m\u001b[1;33m)\u001b[0m\u001b[1;33m\u001b[0m\u001b[1;33m\u001b[0m\u001b[0m\n\u001b[0m",
      "\u001b[1;31mTypeError\u001b[0m: var_args() takes 1 positional argument but 6 were given"
     ]
    }
   ],
   "source": [
    "var_args(1,2,3,4,5,6) #if we removed(*)"
   ]
  },
  {
   "cell_type": "code",
   "execution_count": 96,
   "id": "f9c29eb1",
   "metadata": {},
   "outputs": [],
   "source": [
    "def var_args(*toprint):\n",
    "    print(toprint)\n",
    "    for i in toprint:\n",
    "             print(i)\n",
    "    "
   ]
  },
  {
   "cell_type": "code",
   "execution_count": 97,
   "id": "08528c15",
   "metadata": {},
   "outputs": [
    {
     "name": "stdout",
     "output_type": "stream",
     "text": [
      "(1, 2, 3, 4, 5, 6)\n",
      "1\n",
      "2\n",
      "3\n",
      "4\n",
      "5\n",
      "6\n"
     ]
    }
   ],
   "source": [
    "var_args(1,2,3,4,5,6)"
   ]
  },
  {
   "cell_type": "code",
   "execution_count": 100,
   "id": "e35376a8",
   "metadata": {},
   "outputs": [],
   "source": [
    "def print_student_marks(name,*student_marks):\n",
    "    print(name)\n",
    "    for marks in student_marks:\n",
    "        print(marks)"
   ]
  },
  {
   "cell_type": "code",
   "execution_count": 102,
   "id": "80bc9125",
   "metadata": {},
   "outputs": [
    {
     "name": "stdout",
     "output_type": "stream",
     "text": [
      "xyz\n",
      "90\n",
      "80\n",
      "70\n",
      "abc\n",
      "90\n",
      "88\n",
      "76\n"
     ]
    }
   ],
   "source": [
    "print_student_marks('xyz',90,80,70)\n",
    "print_student_marks('abc',90,88,76)"
   ]
  },
  {
   "cell_type": "code",
   "execution_count": 2,
   "id": "1ffc84fb",
   "metadata": {},
   "outputs": [],
   "source": [
    "def var_args(**toprint):\n",
    "    for i in toprint:\n",
    "             print(i)"
   ]
  },
  {
   "cell_type": "code",
   "execution_count": 3,
   "id": "a78d3f0d",
   "metadata": {},
   "outputs": [
    {
     "ename": "TypeError",
     "evalue": "var_args() takes 0 positional arguments but 6 were given",
     "output_type": "error",
     "traceback": [
      "\u001b[1;31m---------------------------------------------------------------------------\u001b[0m",
      "\u001b[1;31mTypeError\u001b[0m                                 Traceback (most recent call last)",
      "\u001b[1;32m~\\AppData\\Local\\Temp/ipykernel_10556/3660971295.py\u001b[0m in \u001b[0;36m<module>\u001b[1;34m\u001b[0m\n\u001b[1;32m----> 1\u001b[1;33m \u001b[0mvar_args\u001b[0m\u001b[1;33m(\u001b[0m\u001b[1;36m1\u001b[0m\u001b[1;33m,\u001b[0m\u001b[1;36m2\u001b[0m\u001b[1;33m,\u001b[0m\u001b[1;36m3\u001b[0m\u001b[1;33m,\u001b[0m\u001b[1;36m4\u001b[0m\u001b[1;33m,\u001b[0m\u001b[1;36m5\u001b[0m\u001b[1;33m,\u001b[0m\u001b[1;36m6\u001b[0m\u001b[1;33m)\u001b[0m\u001b[1;33m\u001b[0m\u001b[1;33m\u001b[0m\u001b[0m\n\u001b[0m",
      "\u001b[1;31mTypeError\u001b[0m: var_args() takes 0 positional arguments but 6 were given"
     ]
    }
   ],
   "source": [
    "var_args(1,2,3,4,5,6)"
   ]
  },
  {
   "cell_type": "code",
   "execution_count": 4,
   "id": "73656086",
   "metadata": {},
   "outputs": [
    {
     "name": "stdout",
     "output_type": "stream",
     "text": [
      "a\n",
      "b\n",
      "c\n"
     ]
    }
   ],
   "source": [
    "var_args(a=1,b=2,c=3) #when we use ** then it only execute dictionari "
   ]
  },
  {
   "cell_type": "code",
   "execution_count": 5,
   "id": "e172257d",
   "metadata": {},
   "outputs": [],
   "source": [
    "def var_args(**toprint):\n",
    "    print(toprint)\n",
    "    for ke3y ,var in toprint.items():\n",
    "             print(var)"
   ]
  },
  {
   "cell_type": "code",
   "execution_count": 6,
   "id": "be56dd9a",
   "metadata": {},
   "outputs": [
    {
     "name": "stdout",
     "output_type": "stream",
     "text": [
      "{'a': 1, 'b': 2, 'c': 3}\n",
      "1\n",
      "2\n",
      "3\n"
     ]
    }
   ],
   "source": [
    "var_args(a=1,b=2,c=3)"
   ]
  },
  {
   "cell_type": "markdown",
   "id": "9a04ee0d",
   "metadata": {},
   "source": [
    "Anonymous func:you can use the lambda keyword to create small anonymous func. these func are called anonymous because they are not declared in the standard manner by using the def keyword.\n",
    "lambda forms can take any number of argument but return  just one value in the form of an expression . they  casn not contain commands or multiple expression.\n",
    "an anonymous func cannot be a direct call to print because lambd requires an expression."
   ]
  },
  {
   "cell_type": "markdown",
   "id": "4ae49a50",
   "metadata": {},
   "source": [
    "syntax: lambda[arg1,[arg1,....argn]]:expression"
   ]
  },
  {
   "cell_type": "code",
   "execution_count": 7,
   "id": "f100cee3",
   "metadata": {},
   "outputs": [],
   "source": [
    "sum = lambda a,b:a+b"
   ]
  },
  {
   "cell_type": "code",
   "execution_count": 8,
   "id": "b8a6d3a7",
   "metadata": {},
   "outputs": [
    {
     "data": {
      "text/plain": [
       "3"
      ]
     },
     "execution_count": 8,
     "metadata": {},
     "output_type": "execute_result"
    }
   ],
   "source": [
    "sum(1,2)"
   ]
  },
  {
   "cell_type": "code",
   "execution_count": 9,
   "id": "b348f7b4",
   "metadata": {},
   "outputs": [
    {
     "data": {
      "text/plain": [
       "9"
      ]
     },
     "execution_count": 9,
     "metadata": {},
     "output_type": "execute_result"
    }
   ],
   "source": [
    "sum(3,6)"
   ]
  },
  {
   "cell_type": "code",
   "execution_count": 10,
   "id": "a84ce5b1",
   "metadata": {},
   "outputs": [],
   "source": [
    "def sum(a,b):    #we can use this process but this is too long to use hence lambda is the easy to use\n",
    "    c=a+b \n",
    "    return c"
   ]
  },
  {
   "cell_type": "code",
   "execution_count": 11,
   "id": "b0d4376f",
   "metadata": {},
   "outputs": [
    {
     "data": {
      "text/plain": [
       "5"
      ]
     },
     "execution_count": 11,
     "metadata": {},
     "output_type": "execute_result"
    }
   ],
   "source": [
    "sum(2,3)"
   ]
  },
  {
   "cell_type": "markdown",
   "id": "5177ce77",
   "metadata": {},
   "source": [
    "scope of variable:All variable in a program may not be accessible at all locations in that program. this depends on where you have declared a variable.\n",
    "the scope of variable determines the portion of the program where you can access a particular identifier."
   ]
  },
  {
   "cell_type": "markdown",
   "id": "4d52c14f",
   "metadata": {},
   "source": [
    "therer are two basic scopes of variables in python:\n",
    "*Global variable:varables defined out side all func are global\n",
    "*Local variables:variable defined in a func are local and cannot be accessed outside it.\n",
    "\n",
    "Therefore same names can be used for local and global variables shadows global variable."
   ]
  },
  {
   "cell_type": "code",
   "execution_count": 39,
   "id": "8552396b",
   "metadata": {},
   "outputs": [],
   "source": [
    "def bmi(weight,height):\n",
    "    weight1 = weight*0.45\n",
    "    height1 = height*0.3\n",
    "    bmi1 = weight/(height **2)\n",
    "    return bmi1"
   ]
  },
  {
   "cell_type": "code",
   "execution_count": 40,
   "id": "92efce28",
   "metadata": {},
   "outputs": [
    {
     "data": {
      "text/plain": [
       "2.0408163265306123"
      ]
     },
     "execution_count": 40,
     "metadata": {},
     "output_type": "execute_result"
    }
   ],
   "source": [
    "z = bmi(100,7)\n",
    "z"
   ]
  },
  {
   "cell_type": "code",
   "execution_count": 41,
   "id": "67eb6d88",
   "metadata": {},
   "outputs": [
    {
     "data": {
      "text/plain": [
       "<function __main__.bmi1(weight, height)>"
      ]
     },
     "execution_count": 41,
     "metadata": {},
     "output_type": "execute_result"
    }
   ],
   "source": [
    "bmi1"
   ]
  },
  {
   "cell_type": "code",
   "execution_count": 18,
   "id": "71e5e338",
   "metadata": {},
   "outputs": [
    {
     "ename": "NameError",
     "evalue": "name 'weight1' is not defined",
     "output_type": "error",
     "traceback": [
      "\u001b[1;31m---------------------------------------------------------------------------\u001b[0m",
      "\u001b[1;31mNameError\u001b[0m                                 Traceback (most recent call last)",
      "\u001b[1;32m~\\AppData\\Local\\Temp/ipykernel_10556/1241129529.py\u001b[0m in \u001b[0;36m<module>\u001b[1;34m\u001b[0m\n\u001b[1;32m----> 1\u001b[1;33m \u001b[0mweight1\u001b[0m\u001b[1;33m\u001b[0m\u001b[1;33m\u001b[0m\u001b[0m\n\u001b[0m",
      "\u001b[1;31mNameError\u001b[0m: name 'weight1' is not defined"
     ]
    }
   ],
   "source": [
    "weight1"
   ]
  },
  {
   "cell_type": "code",
   "execution_count": 19,
   "id": "ea51f823",
   "metadata": {},
   "outputs": [
    {
     "ename": "NameError",
     "evalue": "name 'height1' is not defined",
     "output_type": "error",
     "traceback": [
      "\u001b[1;31m---------------------------------------------------------------------------\u001b[0m",
      "\u001b[1;31mNameError\u001b[0m                                 Traceback (most recent call last)",
      "\u001b[1;32m~\\AppData\\Local\\Temp/ipykernel_10556/2430899158.py\u001b[0m in \u001b[0;36m<module>\u001b[1;34m\u001b[0m\n\u001b[1;32m----> 1\u001b[1;33m \u001b[0mheight1\u001b[0m\u001b[1;33m\u001b[0m\u001b[1;33m\u001b[0m\u001b[0m\n\u001b[0m",
      "\u001b[1;31mNameError\u001b[0m: name 'height1' is not defined"
     ]
    }
   ],
   "source": [
    "height1"
   ]
  },
  {
   "cell_type": "code",
   "execution_count": 35,
   "id": "88e4b26b",
   "metadata": {},
   "outputs": [],
   "source": [
    "def bmi(weight,height):\n",
    "    weight1 = weight*0.45\n",
    "    height1 = height*0.3\n",
    "    bmi1 = weight1/(height1 **2)\n",
    "    print(weight1,height1,bmi1)\n",
    "    return bmi1"
   ]
  },
  {
   "cell_type": "code",
   "execution_count": 36,
   "id": "8b783548",
   "metadata": {},
   "outputs": [
    {
     "name": "stdout",
     "output_type": "stream",
     "text": [
      "45.0 2.1 10.204081632653061\n"
     ]
    },
    {
     "data": {
      "text/plain": [
       "10.204081632653061"
      ]
     },
     "execution_count": 36,
     "metadata": {},
     "output_type": "execute_result"
    }
   ],
   "source": [
    "bmi(100,7)"
   ]
  },
  {
   "cell_type": "code",
   "execution_count": 42,
   "id": "41166480",
   "metadata": {},
   "outputs": [],
   "source": [
    "weigh1 = 1"
   ]
  },
  {
   "cell_type": "code",
   "execution_count": 43,
   "id": "9f836f93",
   "metadata": {},
   "outputs": [
    {
     "data": {
      "text/plain": [
       "1"
      ]
     },
     "execution_count": 43,
     "metadata": {},
     "output_type": "execute_result"
    }
   ],
   "source": [
    "weigh1"
   ]
  },
  {
   "cell_type": "code",
   "execution_count": null,
   "id": "6cda33db",
   "metadata": {},
   "outputs": [],
   "source": []
  }
 ],
 "metadata": {
  "kernelspec": {
   "display_name": "Python 3 (ipykernel)",
   "language": "python",
   "name": "python3"
  },
  "language_info": {
   "codemirror_mode": {
    "name": "ipython",
    "version": 3
   },
   "file_extension": ".py",
   "mimetype": "text/x-python",
   "name": "python",
   "nbconvert_exporter": "python",
   "pygments_lexer": "ipython3",
   "version": "3.9.7"
  }
 },
 "nbformat": 4,
 "nbformat_minor": 5
}
