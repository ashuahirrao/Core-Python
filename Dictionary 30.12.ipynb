{
 "cells": [
  {
   "cell_type": "code",
   "execution_count": null,
   "id": "ff1eec2a",
   "metadata": {},
   "outputs": [],
   "source": [
    "#dictionary is an associative array (also known as hashes) . any key of the dictionary is associated to a value.\n",
    "#dictionay are enclosed by curly beaces {} and dictionaries are mutable."
   ]
  },
  {
   "cell_type": "code",
   "execution_count": 37,
   "id": "25c0fd82",
   "metadata": {},
   "outputs": [],
   "source": [
    "dict1 = {'ramesh':25,'suresh':30,'rob':45}"
   ]
  },
  {
   "cell_type": "code",
   "execution_count": 5,
   "id": "cafcf849",
   "metadata": {},
   "outputs": [
    {
     "data": {
      "text/plain": [
       "25"
      ]
     },
     "execution_count": 5,
     "metadata": {},
     "output_type": "execute_result"
    }
   ],
   "source": [
    "dict1['ramesh']"
   ]
  },
  {
   "cell_type": "code",
   "execution_count": 12,
   "id": "86fc9ac7",
   "metadata": {},
   "outputs": [],
   "source": [
    "del dict1['ramesh']"
   ]
  },
  {
   "cell_type": "code",
   "execution_count": 14,
   "id": "18fd22e4",
   "metadata": {},
   "outputs": [
    {
     "data": {
      "text/plain": [
       "{'suresh': 30, 'rob': 45}"
      ]
     },
     "execution_count": 14,
     "metadata": {},
     "output_type": "execute_result"
    }
   ],
   "source": [
    "dict1"
   ]
  },
  {
   "cell_type": "code",
   "execution_count": 15,
   "id": "f8cc7b61",
   "metadata": {},
   "outputs": [],
   "source": [
    "dict1.clear()"
   ]
  },
  {
   "cell_type": "code",
   "execution_count": 16,
   "id": "20524dd3",
   "metadata": {},
   "outputs": [
    {
     "data": {
      "text/plain": [
       "{}"
      ]
     },
     "execution_count": 16,
     "metadata": {},
     "output_type": "execute_result"
    }
   ],
   "source": [
    "dict1"
   ]
  },
  {
   "cell_type": "code",
   "execution_count": 25,
   "id": "b2035ad3",
   "metadata": {},
   "outputs": [],
   "source": [
    "del dict1"
   ]
  },
  {
   "cell_type": "code",
   "execution_count": 29,
   "id": "e6fcdee0",
   "metadata": {},
   "outputs": [
    {
     "data": {
      "text/plain": [
       "dict_keys(['ramesh', 'suresh', 'rob'])"
      ]
     },
     "execution_count": 29,
     "metadata": {},
     "output_type": "execute_result"
    }
   ],
   "source": [
    "dict1.keys()"
   ]
  },
  {
   "cell_type": "code",
   "execution_count": 33,
   "id": "bf6ff0ab",
   "metadata": {},
   "outputs": [
    {
     "data": {
      "text/plain": [
       "dict_values([25, 30, 45])"
      ]
     },
     "execution_count": 33,
     "metadata": {},
     "output_type": "execute_result"
    }
   ],
   "source": [
    "dict1.values()"
   ]
  },
  {
   "cell_type": "code",
   "execution_count": 34,
   "id": "6f8839af",
   "metadata": {},
   "outputs": [
    {
     "data": {
      "text/plain": [
       "dict_items([('ramesh', 25), ('suresh', 30), ('rob', 45)])"
      ]
     },
     "execution_count": 34,
     "metadata": {},
     "output_type": "execute_result"
    }
   ],
   "source": [
    "dict1.items()"
   ]
  },
  {
   "cell_type": "code",
   "execution_count": 35,
   "id": "0366fddb",
   "metadata": {},
   "outputs": [
    {
     "data": {
      "text/plain": [
       "(dict_keys(['ramesh', 'suresh', 'rob']),\n",
       " dict_values([25, 30, 45]),\n",
       " dict_items([('ramesh', 25), ('suresh', 30), ('rob', 45)]))"
      ]
     },
     "execution_count": 35,
     "metadata": {},
     "output_type": "execute_result"
    }
   ],
   "source": [
    "dict1.keys(),dict1.values(),dict1.items()"
   ]
  },
  {
   "cell_type": "code",
   "execution_count": 38,
   "id": "4eeeb5af",
   "metadata": {},
   "outputs": [
    {
     "data": {
      "text/plain": [
       "3"
      ]
     },
     "execution_count": 38,
     "metadata": {},
     "output_type": "execute_result"
    }
   ],
   "source": [
    "len(dict1)"
   ]
  },
  {
   "cell_type": "code",
   "execution_count": 39,
   "id": "f4ac1b4a",
   "metadata": {},
   "outputs": [
    {
     "data": {
      "text/plain": [
       "'suresh'"
      ]
     },
     "execution_count": 39,
     "metadata": {},
     "output_type": "execute_result"
    }
   ],
   "source": [
    "max(dict1)"
   ]
  },
  {
   "cell_type": "code",
   "execution_count": 40,
   "id": "c0abefe6",
   "metadata": {},
   "outputs": [
    {
     "data": {
      "text/plain": [
       "'ramesh'"
      ]
     },
     "execution_count": 40,
     "metadata": {},
     "output_type": "execute_result"
    }
   ],
   "source": [
    "min(dict1)"
   ]
  },
  {
   "cell_type": "code",
   "execution_count": 41,
   "id": "cfd7c545",
   "metadata": {},
   "outputs": [
    {
     "data": {
      "text/plain": [
       "['ramesh', 'suresh', 'rob']"
      ]
     },
     "execution_count": 41,
     "metadata": {},
     "output_type": "execute_result"
    }
   ],
   "source": [
    "list(dict1)"
   ]
  },
  {
   "cell_type": "code",
   "execution_count": null,
   "id": "d4a208c4",
   "metadata": {},
   "outputs": [],
   "source": [
    "#merging two dictionaries"
   ]
  },
  {
   "cell_type": "code",
   "execution_count": 43,
   "id": "f3ac2392",
   "metadata": {},
   "outputs": [],
   "source": [
    "d = {'spam':1,'eggs':2,'cheese':3}\n",
    "e = {'cheese':'cheddar','aardvak':'ethel'}"
   ]
  },
  {
   "cell_type": "code",
   "execution_count": 46,
   "id": "768b486d",
   "metadata": {},
   "outputs": [
    {
     "data": {
      "text/plain": [
       "{'spam': 1, 'eggs': 2, 'cheese': 'cheddar', 'aardvak': 'ethel'}"
      ]
     },
     "execution_count": 46,
     "metadata": {},
     "output_type": "execute_result"
    }
   ],
   "source": [
    "d|e"
   ]
  },
  {
   "cell_type": "code",
   "execution_count": 47,
   "id": "c0c90652",
   "metadata": {},
   "outputs": [
    {
     "data": {
      "text/plain": [
       "{'cheese': 3, 'aardvak': 'ethel', 'spam': 1, 'eggs': 2}"
      ]
     },
     "execution_count": 47,
     "metadata": {},
     "output_type": "execute_result"
    }
   ],
   "source": [
    "e|d"
   ]
  },
  {
   "cell_type": "code",
   "execution_count": null,
   "id": "a96c93a5",
   "metadata": {},
   "outputs": [],
   "source": []
  },
  {
   "cell_type": "code",
   "execution_count": null,
   "id": "50d3be7c",
   "metadata": {},
   "outputs": [],
   "source": []
  },
  {
   "cell_type": "code",
   "execution_count": null,
   "id": "55251254",
   "metadata": {},
   "outputs": [],
   "source": []
  },
  {
   "cell_type": "code",
   "execution_count": null,
   "id": "785ab0ed",
   "metadata": {},
   "outputs": [],
   "source": []
  },
  {
   "cell_type": "code",
   "execution_count": null,
   "id": "7c792cd7",
   "metadata": {},
   "outputs": [],
   "source": []
  },
  {
   "cell_type": "code",
   "execution_count": null,
   "id": "cb10568e",
   "metadata": {},
   "outputs": [],
   "source": []
  }
 ],
 "metadata": {
  "kernelspec": {
   "display_name": "Python 3 (ipykernel)",
   "language": "python",
   "name": "python3"
  },
  "language_info": {
   "codemirror_mode": {
    "name": "ipython",
    "version": 3
   },
   "file_extension": ".py",
   "mimetype": "text/x-python",
   "name": "python",
   "nbconvert_exporter": "python",
   "pygments_lexer": "ipython3",
   "version": "3.9.7"
  }
 },
 "nbformat": 4,
 "nbformat_minor": 5
}
