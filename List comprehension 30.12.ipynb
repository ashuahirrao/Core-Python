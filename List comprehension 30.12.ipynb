{
 "cells": [
  {
   "cell_type": "code",
   "execution_count": 1,
   "id": "91fc3431",
   "metadata": {},
   "outputs": [],
   "source": [
    "list_squares = []\n",
    "for i in range (10):\n",
    "    list_squares.append(i**2)\n",
    "    "
   ]
  },
  {
   "cell_type": "code",
   "execution_count": 2,
   "id": "b83410d2",
   "metadata": {},
   "outputs": [
    {
     "data": {
      "text/plain": [
       "[0, 1, 4, 9, 16, 25, 36, 49, 64, 81]"
      ]
     },
     "execution_count": 2,
     "metadata": {},
     "output_type": "execute_result"
    }
   ],
   "source": [
    "list_squares"
   ]
  },
  {
   "cell_type": "code",
   "execution_count": null,
   "id": "21297bc8",
   "metadata": {},
   "outputs": [],
   "source": [
    "# iterator for iterator in iterable ...iterable on which you iterate"
   ]
  },
  {
   "cell_type": "code",
   "execution_count": 3,
   "id": "e2a1a8b0",
   "metadata": {},
   "outputs": [],
   "source": [
    "list_squares_com = [i**2 for i in range(10)]"
   ]
  },
  {
   "cell_type": "code",
   "execution_count": 4,
   "id": "958ca045",
   "metadata": {},
   "outputs": [
    {
     "data": {
      "text/plain": [
       "[0, 1, 4, 9, 16, 25, 36, 49, 64, 81]"
      ]
     },
     "execution_count": 4,
     "metadata": {},
     "output_type": "execute_result"
    }
   ],
   "source": [
    "list_squares_com"
   ]
  },
  {
   "cell_type": "code",
   "execution_count": 5,
   "id": "13d996a8",
   "metadata": {},
   "outputs": [
    {
     "data": {
      "text/plain": [
       "range(0, 10)"
      ]
     },
     "execution_count": 5,
     "metadata": {},
     "output_type": "execute_result"
    }
   ],
   "source": [
    "range(10)"
   ]
  },
  {
   "cell_type": "code",
   "execution_count": 10,
   "id": "39e8e592",
   "metadata": {},
   "outputs": [
    {
     "data": {
      "text/plain": [
       "[]"
      ]
     },
     "execution_count": 10,
     "metadata": {},
     "output_type": "execute_result"
    }
   ],
   "source": [
    "list_squares = []\n",
    "list_squares"
   ]
  },
  {
   "cell_type": "code",
   "execution_count": 11,
   "id": "d821ee93",
   "metadata": {},
   "outputs": [
    {
     "name": "stdout",
     "output_type": "stream",
     "text": [
      "[0]\n",
      "[0, 1]\n",
      "[0, 1, 4]\n",
      "[0, 1, 4, 9]\n",
      "[0, 1, 4, 9, 16]\n",
      "[0, 1, 4, 9, 16, 25]\n",
      "[0, 1, 4, 9, 16, 25, 36]\n",
      "[0, 1, 4, 9, 16, 25, 36, 49]\n",
      "[0, 1, 4, 9, 16, 25, 36, 49, 64]\n",
      "[0, 1, 4, 9, 16, 25, 36, 49, 64, 81]\n",
      "finished\n"
     ]
    }
   ],
   "source": [
    "list_squares = []\n",
    "for i in range (10):\n",
    "    list_squares.append(i**2)\n",
    "    print(list_squares)\n",
    "print('finished')\n",
    "    "
   ]
  },
  {
   "cell_type": "code",
   "execution_count": 12,
   "id": "11b5f450",
   "metadata": {},
   "outputs": [
    {
     "name": "stdout",
     "output_type": "stream",
     "text": [
      "[0]\n",
      "finished\n",
      "[0, 1]\n",
      "finished\n",
      "[0, 1, 4]\n",
      "finished\n",
      "[0, 1, 4, 9]\n",
      "finished\n",
      "[0, 1, 4, 9, 16]\n",
      "finished\n",
      "[0, 1, 4, 9, 16, 25]\n",
      "finished\n",
      "[0, 1, 4, 9, 16, 25, 36]\n",
      "finished\n",
      "[0, 1, 4, 9, 16, 25, 36, 49]\n",
      "finished\n",
      "[0, 1, 4, 9, 16, 25, 36, 49, 64]\n",
      "finished\n",
      "[0, 1, 4, 9, 16, 25, 36, 49, 64, 81]\n",
      "finished\n"
     ]
    }
   ],
   "source": [
    "list_squares = []\n",
    "for i in range (10):\n",
    "    list_squares.append(i**2)\n",
    "    print(list_squares)\n",
    "    print('finished')\n",
    "    "
   ]
  },
  {
   "cell_type": "code",
   "execution_count": null,
   "id": "b5eb4df6",
   "metadata": {},
   "outputs": [],
   "source": [
    "#ex. list1 = [1,100,20,25,64,89]\n",
    "#create a list which has following output , remainder after division by 10\n",
    "#[1,0,0,5,4,9]"
   ]
  },
  {
   "cell_type": "code",
   "execution_count": 38,
   "id": "6af5e6f7",
   "metadata": {},
   "outputs": [],
   "source": [
    "list1_squares_com = [1,100,20,25,64,89]"
   ]
  },
  {
   "cell_type": "code",
   "execution_count": 41,
   "id": "04c4d163",
   "metadata": {},
   "outputs": [
    {
     "data": {
      "text/plain": [
       "[0, 1, 2, 3, 4, 5, 6, 7, 8, 9]"
      ]
     },
     "execution_count": 41,
     "metadata": {},
     "output_type": "execute_result"
    }
   ],
   "source": [
    "list1_squares_com = [i%10 for i in range (10)]\n",
    "list1_squares_com "
   ]
  },
  {
   "cell_type": "code",
   "execution_count": 42,
   "id": "a31eccad",
   "metadata": {},
   "outputs": [],
   "source": [
    "list = [1,4,6,8,0,3,5,7]"
   ]
  },
  {
   "cell_type": "code",
   "execution_count": 43,
   "id": "047a6094",
   "metadata": {},
   "outputs": [
    {
     "data": {
      "text/plain": [
       "8"
      ]
     },
     "execution_count": 43,
     "metadata": {},
     "output_type": "execute_result"
    }
   ],
   "source": [
    "len(list)"
   ]
  },
  {
   "cell_type": "code",
   "execution_count": 44,
   "id": "53f22613",
   "metadata": {},
   "outputs": [
    {
     "data": {
      "text/plain": [
       "8"
      ]
     },
     "execution_count": 44,
     "metadata": {},
     "output_type": "execute_result"
    }
   ],
   "source": [
    "max(list)"
   ]
  },
  {
   "cell_type": "code",
   "execution_count": 45,
   "id": "64f76577",
   "metadata": {},
   "outputs": [
    {
     "data": {
      "text/plain": [
       "0"
      ]
     },
     "execution_count": 45,
     "metadata": {},
     "output_type": "execute_result"
    }
   ],
   "source": [
    "min(list)"
   ]
  },
  {
   "cell_type": "code",
   "execution_count": 47,
   "id": "e8c6fba8",
   "metadata": {},
   "outputs": [],
   "source": [
    "#list(seq)-convert a tuple into a list"
   ]
  },
  {
   "cell_type": "markdown",
   "id": "804b1808",
   "metadata": {},
   "source": [
    "# Ex."
   ]
  },
  {
   "cell_type": "code",
   "execution_count": 48,
   "id": "bf74cddb",
   "metadata": {},
   "outputs": [],
   "source": [
    "list = [2445,1433,124,54,123]"
   ]
  },
  {
   "cell_type": "code",
   "execution_count": 49,
   "id": "cfc8d1c6",
   "metadata": {},
   "outputs": [
    {
     "data": {
      "text/plain": [
       "2445"
      ]
     },
     "execution_count": 49,
     "metadata": {},
     "output_type": "execute_result"
    }
   ],
   "source": [
    "max(list)"
   ]
  },
  {
   "cell_type": "code",
   "execution_count": 50,
   "id": "a3541283",
   "metadata": {},
   "outputs": [],
   "source": [
    "list = [3,5,25,1,3]"
   ]
  },
  {
   "cell_type": "code",
   "execution_count": 52,
   "id": "c3e5b6d8",
   "metadata": {},
   "outputs": [
    {
     "data": {
      "text/plain": [
       "1"
      ]
     },
     "execution_count": 52,
     "metadata": {},
     "output_type": "execute_result"
    }
   ],
   "source": [
    "min(list)"
   ]
  },
  {
   "cell_type": "code",
   "execution_count": 53,
   "id": "2cdc0828",
   "metadata": {},
   "outputs": [],
   "source": [
    "list1 = [1,5,9]"
   ]
  },
  {
   "cell_type": "code",
   "execution_count": 54,
   "id": "468149c8",
   "metadata": {},
   "outputs": [
    {
     "data": {
      "text/plain": [
       "15"
      ]
     },
     "execution_count": 54,
     "metadata": {},
     "output_type": "execute_result"
    }
   ],
   "source": [
    "sum(list1)"
   ]
  },
  {
   "cell_type": "code",
   "execution_count": 55,
   "id": "5f32f566",
   "metadata": {},
   "outputs": [],
   "source": [
    "list = [2,33,222,14,25]"
   ]
  },
  {
   "cell_type": "code",
   "execution_count": 56,
   "id": "2fd6232e",
   "metadata": {},
   "outputs": [
    {
     "data": {
      "text/plain": [
       "[2, 33, 222, 14]"
      ]
     },
     "execution_count": 56,
     "metadata": {},
     "output_type": "execute_result"
    }
   ],
   "source": [
    "list[:-1]"
   ]
  },
  {
   "cell_type": "code",
   "execution_count": 59,
   "id": "8f719d36",
   "metadata": {},
   "outputs": [],
   "source": [
    "names = ['amir','bear','charlton','daman']"
   ]
  },
  {
   "cell_type": "code",
   "execution_count": 61,
   "id": "5200d6a6",
   "metadata": {},
   "outputs": [
    {
     "name": "stdout",
     "output_type": "stream",
     "text": [
      "n\n"
     ]
    }
   ],
   "source": [
    "print(names[-1][-1])"
   ]
  },
  {
   "cell_type": "code",
   "execution_count": 62,
   "id": "ef0f51c6",
   "metadata": {},
   "outputs": [],
   "source": [
    "list = [11,2,23]\n",
    "list1 = [11,2,2]"
   ]
  },
  {
   "cell_type": "code",
   "execution_count": 63,
   "id": "f06fea69",
   "metadata": {},
   "outputs": [
    {
     "data": {
      "text/plain": [
       "False"
      ]
     },
     "execution_count": 63,
     "metadata": {},
     "output_type": "execute_result"
    }
   ],
   "source": [
    "list<list1"
   ]
  },
  {
   "cell_type": "code",
   "execution_count": 64,
   "id": "8cc86ef8",
   "metadata": {},
   "outputs": [],
   "source": [
    "#to add a new element to a list we use which command?\n",
    "#Ans.list.append(5)"
   ]
  },
  {
   "cell_type": "code",
   "execution_count": null,
   "id": "c0cb28d8",
   "metadata": {},
   "outputs": [],
   "source": [
    "#to insert 5 to third position in list\n",
    "#Ans.list.insert(2,5)"
   ]
  },
  {
   "cell_type": "code",
   "execution_count": 66,
   "id": "4c33aa75",
   "metadata": {},
   "outputs": [
    {
     "name": "stdout",
     "output_type": "stream",
     "text": [
      "['carrot', 'celery', 'broccoli', 'potato', 'asparagus']\n"
     ]
    }
   ],
   "source": [
    "veggies = ['carrot','broccoli','potato','asparagus']\n",
    "veggies.insert(veggies.index('broccoli'),('celery'))\n",
    "print(veggies)\n",
    "               "
   ]
  },
  {
   "cell_type": "code",
   "execution_count": null,
   "id": "82ce849a",
   "metadata": {},
   "outputs": [],
   "source": []
  },
  {
   "cell_type": "code",
   "execution_count": null,
   "id": "dbe53c74",
   "metadata": {},
   "outputs": [],
   "source": []
  },
  {
   "cell_type": "code",
   "execution_count": null,
   "id": "838b1c84",
   "metadata": {},
   "outputs": [],
   "source": []
  },
  {
   "cell_type": "code",
   "execution_count": null,
   "id": "9a9c68c8",
   "metadata": {},
   "outputs": [],
   "source": []
  },
  {
   "cell_type": "code",
   "execution_count": null,
   "id": "4e4319ad",
   "metadata": {},
   "outputs": [],
   "source": []
  },
  {
   "cell_type": "code",
   "execution_count": null,
   "id": "c72ecd1a",
   "metadata": {},
   "outputs": [],
   "source": []
  }
 ],
 "metadata": {
  "kernelspec": {
   "display_name": "Python 3 (ipykernel)",
   "language": "python",
   "name": "python3"
  },
  "language_info": {
   "codemirror_mode": {
    "name": "ipython",
    "version": 3
   },
   "file_extension": ".py",
   "mimetype": "text/x-python",
   "name": "python",
   "nbconvert_exporter": "python",
   "pygments_lexer": "ipython3",
   "version": "3.9.7"
  }
 },
 "nbformat": 4,
 "nbformat_minor": 5
}
