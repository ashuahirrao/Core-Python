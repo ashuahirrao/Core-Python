{
 "cells": [
  {
   "cell_type": "code",
   "execution_count": null,
   "id": "1b062698",
   "metadata": {},
   "outputs": [],
   "source": [
    "#A tuple is a sequence of immutable py objects .Tuples are sequences , just like lists.\n",
    "#tuples use parentheses()"
   ]
  },
  {
   "cell_type": "code",
   "execution_count": null,
   "id": "5e8dc520",
   "metadata": {},
   "outputs": [],
   "source": [
    "#tu0les are imutable that means you can not changr any value in tuple."
   ]
  },
  {
   "cell_type": "code",
   "execution_count": 1,
   "id": "75cf72f4",
   "metadata": {},
   "outputs": [],
   "source": [
    "tup1 = (1,'New',3.99)"
   ]
  },
  {
   "cell_type": "code",
   "execution_count": 4,
   "id": "eedb11ae",
   "metadata": {},
   "outputs": [
    {
     "data": {
      "text/plain": [
       "tuple"
      ]
     },
     "execution_count": 4,
     "metadata": {},
     "output_type": "execute_result"
    }
   ],
   "source": [
    "type(tup1)"
   ]
  },
  {
   "cell_type": "code",
   "execution_count": 5,
   "id": "38041dc1",
   "metadata": {},
   "outputs": [],
   "source": [
    "T = ('song',3)"
   ]
  },
  {
   "cell_type": "code",
   "execution_count": 6,
   "id": "73289615",
   "metadata": {},
   "outputs": [
    {
     "data": {
      "text/plain": [
       "tuple"
      ]
     },
     "execution_count": 6,
     "metadata": {},
     "output_type": "execute_result"
    }
   ],
   "source": [
    "type(T)"
   ]
  },
  {
   "cell_type": "code",
   "execution_count": 15,
   "id": "f1803390",
   "metadata": {},
   "outputs": [
    {
     "data": {
      "text/plain": [
       "([1, 3, 3], (1, 3, 3))"
      ]
     },
     "execution_count": 15,
     "metadata": {},
     "output_type": "execute_result"
    }
   ],
   "source": [
    "list1 = [1,3,3]\n",
    "tup1 = (1,3,3)\n",
    "list1,tup1"
   ]
  },
  {
   "cell_type": "code",
   "execution_count": null,
   "id": "3546a69d",
   "metadata": {},
   "outputs": [],
   "source": [
    "#accesing values and updating value"
   ]
  },
  {
   "cell_type": "code",
   "execution_count": 26,
   "id": "e0904498",
   "metadata": {},
   "outputs": [],
   "source": [
    "tup1 = (1,3,3)"
   ]
  },
  {
   "cell_type": "code",
   "execution_count": 17,
   "id": "989c0c58",
   "metadata": {},
   "outputs": [
    {
     "data": {
      "text/plain": [
       "1"
      ]
     },
     "execution_count": 17,
     "metadata": {},
     "output_type": "execute_result"
    }
   ],
   "source": [
    "tup1[0]"
   ]
  },
  {
   "cell_type": "code",
   "execution_count": 18,
   "id": "c489a4ad",
   "metadata": {},
   "outputs": [
    {
     "data": {
      "text/plain": [
       "(1, 3)"
      ]
     },
     "execution_count": 18,
     "metadata": {},
     "output_type": "execute_result"
    }
   ],
   "source": [
    "tup1[0:2]"
   ]
  },
  {
   "cell_type": "code",
   "execution_count": 27,
   "id": "0b96c045",
   "metadata": {},
   "outputs": [
    {
     "data": {
      "text/plain": [
       "(1, 3, 1, 3)"
      ]
     },
     "execution_count": 27,
     "metadata": {},
     "output_type": "execute_result"
    }
   ],
   "source": [
    "tup1[0:2]*2"
   ]
  },
  {
   "cell_type": "code",
   "execution_count": 23,
   "id": "ea959182",
   "metadata": {},
   "outputs": [],
   "source": [
    "list1 = [1,3,3]"
   ]
  },
  {
   "cell_type": "code",
   "execution_count": 22,
   "id": "21758bf4",
   "metadata": {},
   "outputs": [
    {
     "data": {
      "text/plain": [
       "[1, 3, 3, 1, 3, 3]"
      ]
     },
     "execution_count": 22,
     "metadata": {},
     "output_type": "execute_result"
    }
   ],
   "source": [
    "list1*2"
   ]
  },
  {
   "cell_type": "code",
   "execution_count": 28,
   "id": "8c633b48",
   "metadata": {},
   "outputs": [
    {
     "data": {
      "text/plain": [
       "([1, 3, 3, 1, 3, 3], 'xyzxyz')"
      ]
     },
     "execution_count": 28,
     "metadata": {},
     "output_type": "execute_result"
    }
   ],
   "source": [
    "list1*2,'xyz'*2"
   ]
  },
  {
   "cell_type": "code",
   "execution_count": 31,
   "id": "9c87c7c4",
   "metadata": {},
   "outputs": [
    {
     "name": "stdout",
     "output_type": "stream",
     "text": [
      "(11, 34, 557, 'aa', 'bb', 'cc')\n"
     ]
    }
   ],
   "source": [
    "tup1 = (11,34,557)\n",
    "tup2 = ('aa','bb','cc')\n",
    "tup3 = tup1+tup2\n",
    "print(tup3)"
   ]
  },
  {
   "cell_type": "code",
   "execution_count": null,
   "id": "9f01dbd0",
   "metadata": {},
   "outputs": [],
   "source": [
    "#Deleting tuples"
   ]
  },
  {
   "cell_type": "code",
   "execution_count": 32,
   "id": "ffebd012",
   "metadata": {},
   "outputs": [],
   "source": [
    "tup1 = (1,3,3)"
   ]
  },
  {
   "cell_type": "code",
   "execution_count": 33,
   "id": "db9e717b",
   "metadata": {
    "scrolled": true
   },
   "outputs": [
    {
     "ename": "TypeError",
     "evalue": "'tuple' object does not support item assignment",
     "output_type": "error",
     "traceback": [
      "\u001b[1;31m---------------------------------------------------------------------------\u001b[0m",
      "\u001b[1;31mTypeError\u001b[0m                                 Traceback (most recent call last)",
      "\u001b[1;32m~\\AppData\\Local\\Temp/ipykernel_14412/2722980009.py\u001b[0m in \u001b[0;36m<module>\u001b[1;34m\u001b[0m\n\u001b[1;32m----> 1\u001b[1;33m \u001b[0mtup1\u001b[0m\u001b[1;33m[\u001b[0m\u001b[1;36m0\u001b[0m\u001b[1;33m]\u001b[0m \u001b[1;33m=\u001b[0m \u001b[1;36m1\u001b[0m\u001b[1;33m\u001b[0m\u001b[1;33m\u001b[0m\u001b[0m\n\u001b[0m",
      "\u001b[1;31mTypeError\u001b[0m: 'tuple' object does not support item assignment"
     ]
    }
   ],
   "source": [
    "tup1[0] = 1 "
   ]
  },
  {
   "cell_type": "code",
   "execution_count": 39,
   "id": "b85f51ad",
   "metadata": {},
   "outputs": [
    {
     "ename": "TypeError",
     "evalue": "'tuple' object does not support item assignment",
     "output_type": "error",
     "traceback": [
      "\u001b[1;31m---------------------------------------------------------------------------\u001b[0m",
      "\u001b[1;31mTypeError\u001b[0m                                 Traceback (most recent call last)",
      "\u001b[1;32m~\\AppData\\Local\\Temp/ipykernel_14412/1788740459.py\u001b[0m in \u001b[0;36m<module>\u001b[1;34m\u001b[0m\n\u001b[1;32m----> 1\u001b[1;33m \u001b[0mtup1\u001b[0m\u001b[1;33m[\u001b[0m\u001b[1;36m0\u001b[0m\u001b[1;33m]\u001b[0m \u001b[1;33m=\u001b[0m \u001b[1;33m[\u001b[0m\u001b[1;33m]\u001b[0m\u001b[1;33m\u001b[0m\u001b[1;33m\u001b[0m\u001b[0m\n\u001b[0m",
      "\u001b[1;31mTypeError\u001b[0m: 'tuple' object does not support item assignment"
     ]
    }
   ],
   "source": [
    "tup1[0] = []  # unlike list tuples value can not be deleted ,hence it creates an error"
   ]
  },
  {
   "cell_type": "code",
   "execution_count": 34,
   "id": "1c012f7a",
   "metadata": {},
   "outputs": [],
   "source": [
    "list1=[1,3,3]"
   ]
  },
  {
   "cell_type": "code",
   "execution_count": 38,
   "id": "107cb3be",
   "metadata": {},
   "outputs": [
    {
     "data": {
      "text/plain": [
       "[1, 3, 3]"
      ]
     },
     "execution_count": 38,
     "metadata": {},
     "output_type": "execute_result"
    }
   ],
   "source": [
    "list1[0]=1\n",
    "list1"
   ]
  },
  {
   "cell_type": "code",
   "execution_count": 36,
   "id": "30b8d37f",
   "metadata": {},
   "outputs": [],
   "source": [
    "list1[0]=[]"
   ]
  },
  {
   "cell_type": "code",
   "execution_count": 37,
   "id": "bf68a48d",
   "metadata": {},
   "outputs": [
    {
     "data": {
      "text/plain": [
       "[[], 3, 3]"
      ]
     },
     "execution_count": 37,
     "metadata": {},
     "output_type": "execute_result"
    }
   ],
   "source": [
    "list1"
   ]
  },
  {
   "cell_type": "code",
   "execution_count": 40,
   "id": "bee9fa43",
   "metadata": {},
   "outputs": [],
   "source": [
    "tup1 = (23,34,45,56,67)"
   ]
  },
  {
   "cell_type": "code",
   "execution_count": 41,
   "id": "02e3177e",
   "metadata": {},
   "outputs": [
    {
     "data": {
      "text/plain": [
       "1"
      ]
     },
     "execution_count": 41,
     "metadata": {},
     "output_type": "execute_result"
    }
   ],
   "source": [
    "tup1.index(34)"
   ]
  },
  {
   "cell_type": "code",
   "execution_count": 42,
   "id": "6cc41c73",
   "metadata": {},
   "outputs": [
    {
     "data": {
      "text/plain": [
       "3"
      ]
     },
     "execution_count": 42,
     "metadata": {},
     "output_type": "execute_result"
    }
   ],
   "source": [
    "tup1.index(56)"
   ]
  },
  {
   "cell_type": "code",
   "execution_count": 44,
   "id": "0d30707a",
   "metadata": {},
   "outputs": [
    {
     "data": {
      "text/plain": [
       "1"
      ]
     },
     "execution_count": 44,
     "metadata": {},
     "output_type": "execute_result"
    }
   ],
   "source": [
    "tup1.count(23)"
   ]
  },
  {
   "cell_type": "code",
   "execution_count": 45,
   "id": "ecc24aef",
   "metadata": {},
   "outputs": [
    {
     "data": {
      "text/plain": [
       "5"
      ]
     },
     "execution_count": 45,
     "metadata": {},
     "output_type": "execute_result"
    }
   ],
   "source": [
    "len(tup1)"
   ]
  },
  {
   "cell_type": "code",
   "execution_count": 46,
   "id": "dcb67684",
   "metadata": {},
   "outputs": [
    {
     "data": {
      "text/plain": [
       "67"
      ]
     },
     "execution_count": 46,
     "metadata": {},
     "output_type": "execute_result"
    }
   ],
   "source": [
    "max(tup1)"
   ]
  },
  {
   "cell_type": "code",
   "execution_count": 47,
   "id": "5bbc48d8",
   "metadata": {},
   "outputs": [
    {
     "data": {
      "text/plain": [
       "23"
      ]
     },
     "execution_count": 47,
     "metadata": {},
     "output_type": "execute_result"
    }
   ],
   "source": [
    "min(tup1)"
   ]
  },
  {
   "cell_type": "code",
   "execution_count": 48,
   "id": "b6425605",
   "metadata": {},
   "outputs": [
    {
     "data": {
      "text/plain": [
       "[23, 34, 45, 56, 67]"
      ]
     },
     "execution_count": 48,
     "metadata": {},
     "output_type": "execute_result"
    }
   ],
   "source": [
    "list(tup1)"
   ]
  },
  {
   "cell_type": "code",
   "execution_count": null,
   "id": "46a809f4",
   "metadata": {},
   "outputs": [],
   "source": []
  },
  {
   "cell_type": "code",
   "execution_count": null,
   "id": "5069258b",
   "metadata": {},
   "outputs": [],
   "source": []
  },
  {
   "cell_type": "code",
   "execution_count": null,
   "id": "5a39a5f9",
   "metadata": {},
   "outputs": [],
   "source": []
  },
  {
   "cell_type": "code",
   "execution_count": null,
   "id": "df7866d4",
   "metadata": {},
   "outputs": [],
   "source": []
  },
  {
   "cell_type": "code",
   "execution_count": null,
   "id": "2d16095c",
   "metadata": {},
   "outputs": [],
   "source": []
  },
  {
   "cell_type": "code",
   "execution_count": null,
   "id": "baf780d5",
   "metadata": {},
   "outputs": [],
   "source": []
  },
  {
   "cell_type": "code",
   "execution_count": null,
   "id": "01df2432",
   "metadata": {},
   "outputs": [],
   "source": []
  },
  {
   "cell_type": "code",
   "execution_count": null,
   "id": "5173b9a2",
   "metadata": {},
   "outputs": [],
   "source": []
  },
  {
   "cell_type": "code",
   "execution_count": null,
   "id": "7703f2a0",
   "metadata": {},
   "outputs": [],
   "source": []
  }
 ],
 "metadata": {
  "kernelspec": {
   "display_name": "Python 3 (ipykernel)",
   "language": "python",
   "name": "python3"
  },
  "language_info": {
   "codemirror_mode": {
    "name": "ipython",
    "version": 3
   },
   "file_extension": ".py",
   "mimetype": "text/x-python",
   "name": "python",
   "nbconvert_exporter": "python",
   "pygments_lexer": "ipython3",
   "version": "3.9.7"
  }
 },
 "nbformat": 4,
 "nbformat_minor": 5
}
