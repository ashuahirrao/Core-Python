{
 "cells": [
  {
   "cell_type": "code",
   "execution_count": null,
   "id": "53df5312",
   "metadata": {},
   "outputs": [],
   "source": [
    "print('c\\some\\name')"
   ]
  },
  {
   "cell_type": "code",
   "execution_count": null,
   "id": "aa472873",
   "metadata": {},
   "outputs": [],
   "source": [
    "print(r'c\\some\\name') "
   ]
  },
  {
   "cell_type": "code",
   "execution_count": null,
   "id": "54066004",
   "metadata": {},
   "outputs": [],
   "source": [
    "fullname = \"robert_rotriguez_jr \"\n",
    "first_name = \"robert\"\n",
    "last_name = \"rotriguez_jr\""
   ]
  },
  {
   "cell_type": "code",
   "execution_count": null,
   "id": "c4384329",
   "metadata": {},
   "outputs": [],
   "source": [
    "print(\"first name is %s and last name is %s\"%(first_name , last_name))"
   ]
  },
  {
   "cell_type": "code",
   "execution_count": null,
   "id": "ab0f976f",
   "metadata": {},
   "outputs": [],
   "source": [
    "print(\"first name is robert ans last name is rotriguez_jr\")"
   ]
  },
  {
   "cell_type": "code",
   "execution_count": null,
   "id": "2fb015ea",
   "metadata": {},
   "outputs": [],
   "source": [
    "#we can write it both ways bt first way is most preferred"
   ]
  },
  {
   "cell_type": "code",
   "execution_count": null,
   "id": "d641d398",
   "metadata": {},
   "outputs": [],
   "source": [
    "fullname = \"bonnet_rotriguez_jr \"\n",
    "first_name = \"bonnet\"\n",
    "last_name = \"rotriguez_jr\"\n"
   ]
  },
  {
   "cell_type": "code",
   "execution_count": null,
   "id": "d2b91e02",
   "metadata": {},
   "outputs": [],
   "source": [
    "print(\"first name is %s and last name is %s\"%(first_name , last_name))"
   ]
  },
  {
   "cell_type": "code",
   "execution_count": null,
   "id": "351c312a",
   "metadata": {},
   "outputs": [],
   "source": [
    "print(\"first name is bonnet ans last name is rotriguez_jr\")"
   ]
  },
  {
   "cell_type": "code",
   "execution_count": null,
   "id": "bba0f4b1",
   "metadata": {},
   "outputs": [],
   "source": [
    "# bt in the second type we change the name mannually bt in first type it not to change"
   ]
  },
  {
   "cell_type": "code",
   "execution_count": null,
   "id": "69f862bd",
   "metadata": {},
   "outputs": [],
   "source": [
    "fullname = \"robert_rotriguez_jr \"\n",
    "first_name = fullname.split(\"_\" ,1)[0]\n",
    "last_name = fullname.split(\"_\" ,1)[1]"
   ]
  },
  {
   "cell_type": "code",
   "execution_count": null,
   "id": "593b1fa8",
   "metadata": {},
   "outputs": [],
   "source": [
    "print(\"first name is %s and last name is %s\"%(first_name , last_name))"
   ]
  },
  {
   "cell_type": "code",
   "execution_count": null,
   "id": "348b28dc",
   "metadata": {},
   "outputs": [],
   "source": [
    "# % denotes place holder here 2 place holders "
   ]
  },
  {
   "cell_type": "code",
   "execution_count": null,
   "id": "89b5219d",
   "metadata": {},
   "outputs": [],
   "source": [
    "print(\"actual name is %s and first name is %s and last name is %s\"%(fullname,first_name , last_name))"
   ]
  },
  {
   "cell_type": "code",
   "execution_count": null,
   "id": "eab6e3af",
   "metadata": {},
   "outputs": [],
   "source": [
    "# here 3 place holdres"
   ]
  },
  {
   "cell_type": "code",
   "execution_count": null,
   "id": "4b1ccebf",
   "metadata": {},
   "outputs": [],
   "source": [
    "fullname = \"robert_rotriguez_jr \"\n",
    "first_name = fullname.split(\"_\" ,1)[0]\n",
    "last_name = fullname.split(\"_\" ,1)[1]\n",
    "age = 40"
   ]
  },
  {
   "cell_type": "code",
   "execution_count": null,
   "id": "e15882c6",
   "metadata": {},
   "outputs": [],
   "source": [
    "print(\"actual name is %s and first name is %s and last name is %s and age is %d\"%(fullname,first_name , last_name,age))"
   ]
  },
  {
   "cell_type": "code",
   "execution_count": null,
   "id": "43161ca1",
   "metadata": {},
   "outputs": [],
   "source": [
    "para_str = \"\"\"\"this is a long string that is made up of several \n",
    "lines and non-printable characters such as TAB (\\t) and they will\n",
    "show up that way when displayed. NEWLINEs within the string ,\n",
    "whether explicity given like this within the brackets [\\n], or \n",
    "just a NEWLINE within the variable assignment will also show up.\"\n",
    "\"\"\""
   ]
  },
  {
   "cell_type": "code",
   "execution_count": null,
   "id": "1a307bf0",
   "metadata": {},
   "outputs": [],
   "source": [
    "para_str"
   ]
  },
  {
   "cell_type": "markdown",
   "id": "88d2260b",
   "metadata": {},
   "source": [
    "# stimulations"
   ]
  },
  {
   "cell_type": "code",
   "execution_count": null,
   "id": "d23666ab",
   "metadata": {},
   "outputs": [],
   "source": [
    "#what is the output when following statement executed?"
   ]
  },
  {
   "cell_type": "code",
   "execution_count": 25,
   "id": "bcba4ef1",
   "metadata": {},
   "outputs": [
    {
     "data": {
      "text/plain": [
       "'abc'"
      ]
     },
     "execution_count": 25,
     "metadata": {},
     "output_type": "execute_result"
    }
   ],
   "source": [
    "\"a\" + \"bc\""
   ]
  },
  {
   "cell_type": "code",
   "execution_count": 26,
   "id": "7727e6da",
   "metadata": {},
   "outputs": [
    {
     "data": {
      "text/plain": [
       "'cd'"
      ]
     },
     "execution_count": 26,
     "metadata": {},
     "output_type": "execute_result"
    }
   ],
   "source": [
    "\"abcd\"[2:]"
   ]
  },
  {
   "cell_type": "code",
   "execution_count": 27,
   "id": "7a98f0e2",
   "metadata": {},
   "outputs": [
    {
     "data": {
      "text/plain": [
       "'o'"
      ]
     },
     "execution_count": 27,
     "metadata": {},
     "output_type": "execute_result"
    }
   ],
   "source": [
    "str1 = \"hello\"\n",
    "str1[-1:]"
   ]
  },
  {
   "cell_type": "code",
   "execution_count": null,
   "id": "8022cbfa",
   "metadata": {},
   "outputs": [],
   "source": [
    "#what arithmatic opertor can not be used with strings?\n",
    "- (minus)"
   ]
  },
  {
   "cell_type": "code",
   "execution_count": 28,
   "id": "f9fa1343",
   "metadata": {},
   "outputs": [
    {
     "ename": "SyntaxError",
     "evalue": "Missing parentheses in call to 'print'. Did you mean print(r\"\\hello\")? (Temp/ipykernel_1608/4008435845.py, line 1)",
     "output_type": "error",
     "traceback": [
      "\u001b[1;36m  File \u001b[1;32m\"C:\\Users\\Ragini\\AppData\\Local\\Temp/ipykernel_1608/4008435845.py\"\u001b[1;36m, line \u001b[1;32m1\u001b[0m\n\u001b[1;33m    print r\"\\hello\"\u001b[0m\n\u001b[1;37m          ^\u001b[0m\n\u001b[1;31mSyntaxError\u001b[0m\u001b[1;31m:\u001b[0m Missing parentheses in call to 'print'. Did you mean print(r\"\\hello\")?\n"
     ]
    }
   ],
   "source": [
    "print r\"\\hello\""
   ]
  },
  {
   "cell_type": "code",
   "execution_count": null,
   "id": "effec76a",
   "metadata": {},
   "outputs": [],
   "source": [
    "#ans error"
   ]
  },
  {
   "cell_type": "code",
   "execution_count": 29,
   "id": "5056b68f",
   "metadata": {},
   "outputs": [
    {
     "name": "stdout",
     "output_type": "stream",
     "text": [
      "newline\n"
     ]
    }
   ],
   "source": [
    "print ('new''line')"
   ]
  },
  {
   "cell_type": "code",
   "execution_count": 30,
   "id": "bfd73f72",
   "metadata": {},
   "outputs": [
    {
     "name": "stdout",
     "output_type": "stream",
     "text": [
      "new\tline\n"
     ]
    }
   ],
   "source": [
    "print ('new''\\t''line')"
   ]
  },
  {
   "cell_type": "code",
   "execution_count": 31,
   "id": "b5b66dad",
   "metadata": {},
   "outputs": [
    {
     "ename": "NameError",
     "evalue": "name 'A' is not defined",
     "output_type": "error",
     "traceback": [
      "\u001b[1;31m---------------------------------------------------------------------------\u001b[0m",
      "\u001b[1;31mNameError\u001b[0m                                 Traceback (most recent call last)",
      "\u001b[1;32m~\\AppData\\Local\\Temp/ipykernel_1608/3914630597.py\u001b[0m in \u001b[0;36m<module>\u001b[1;34m\u001b[0m\n\u001b[1;32m----> 1\u001b[1;33m \u001b[0mprint\u001b[0m\u001b[1;33m(\u001b[0m\u001b[1;36m0\u001b[0m\u001b[1;33m*\u001b[0m\u001b[0mA\u001b[0m\u001b[1;33m+\u001b[0m\u001b[1;36m0\u001b[0m\u001b[1;33m*\u001b[0m\u001b[0mB\u001b[0m\u001b[1;33m+\u001b[0m\u001b[1;36m0\u001b[0m\u001b[1;33m*\u001b[0m\u001b[0mC\u001b[0m\u001b[1;33m)\u001b[0m\u001b[1;33m\u001b[0m\u001b[1;33m\u001b[0m\u001b[0m\n\u001b[0m",
      "\u001b[1;31mNameError\u001b[0m: name 'A' is not defined"
     ]
    }
   ],
   "source": [
    "print(0*A+0*B+0*C)"
   ]
  },
  {
   "cell_type": "code",
   "execution_count": 32,
   "id": "1e99e9be",
   "metadata": {},
   "outputs": [
    {
     "ename": "SyntaxError",
     "evalue": "Missing parentheses in call to 'print'. Did you mean print(example)? (Temp/ipykernel_1608/2616836651.py, line 3)",
     "output_type": "error",
     "traceback": [
      "\u001b[1;36m  File \u001b[1;32m\"C:\\Users\\Ragini\\AppData\\Local\\Temp/ipykernel_1608/2616836651.py\"\u001b[1;36m, line \u001b[1;32m3\u001b[0m\n\u001b[1;33m    print example\u001b[0m\n\u001b[1;37m          ^\u001b[0m\n\u001b[1;31mSyntaxError\u001b[0m\u001b[1;31m:\u001b[0m Missing parentheses in call to 'print'. Did you mean print(example)?\n"
     ]
    }
   ],
   "source": [
    "example = \"snow world\"\n",
    "example[3] = 's'\n",
    "print example"
   ]
  },
  {
   "cell_type": "code",
   "execution_count": null,
   "id": "d1c2cd81",
   "metadata": {},
   "outputs": [],
   "source": [
    "#ans error"
   ]
  },
  {
   "cell_type": "code",
   "execution_count": 35,
   "id": "976efea1",
   "metadata": {},
   "outputs": [
    {
     "name": "stdout",
     "output_type": "stream",
     "text": [
      "s\n"
     ]
    }
   ],
   "source": [
    "example = \"snow world\"\n",
    "example = 's'\n",
    "print (example)"
   ]
  },
  {
   "cell_type": "code",
   "execution_count": 36,
   "id": "76a0688e",
   "metadata": {},
   "outputs": [
    {
     "data": {
      "text/plain": [
       "1"
      ]
     },
     "execution_count": 36,
     "metadata": {},
     "output_type": "execute_result"
    }
   ],
   "source": [
    "example = \"helle\"\n",
    "example.find(\"e\")"
   ]
  },
  {
   "cell_type": "code",
   "execution_count": null,
   "id": "6377d263",
   "metadata": {},
   "outputs": [],
   "source": [
    "#To concatenate two stringd what statements are applicable:\n",
    "#1.s3=s1.s2  2.s3=s1+s2  3.s3=s1_add_(s2)  4.s3=s1*s2\n",
    "ans 2."
   ]
  },
  {
   "cell_type": "code",
   "execution_count": null,
   "id": "3f05fd90",
   "metadata": {},
   "outputs": [],
   "source": []
  },
  {
   "cell_type": "code",
   "execution_count": null,
   "id": "f4845395",
   "metadata": {},
   "outputs": [],
   "source": []
  },
  {
   "cell_type": "code",
   "execution_count": null,
   "id": "6eba82f4",
   "metadata": {},
   "outputs": [],
   "source": []
  },
  {
   "cell_type": "code",
   "execution_count": null,
   "id": "d970813d",
   "metadata": {},
   "outputs": [],
   "source": []
  }
 ],
 "metadata": {
  "kernelspec": {
   "display_name": "Python 3 (ipykernel)",
   "language": "python",
   "name": "python3"
  },
  "language_info": {
   "codemirror_mode": {
    "name": "ipython",
    "version": 3
   },
   "file_extension": ".py",
   "mimetype": "text/x-python",
   "name": "python",
   "nbconvert_exporter": "python",
   "pygments_lexer": "ipython3",
   "version": "3.9.7"
  }
 },
 "nbformat": 4,
 "nbformat_minor": 5
}
